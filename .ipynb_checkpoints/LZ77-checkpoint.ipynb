{
 "cells": [
  {
   "cell_type": "markdown",
   "metadata": {
    "slideshow": {
     "slide_type": "slide"
    }
   },
   "source": [
    "# 1. LZ77 [[Ziv and Lempel, 1977]](https://scholar.google.es/scholar?hl=es&as_sdt=0%2C5&q=Ziv+Lempel+universal+sequential+data+compression+1977&btnG=)\n",
    "\n",
    "* Jacov Ziv and Abraham Lempel proposed the LZ77 algorithm in 1977. \n",
    "* In the eighties, [LZSS](https://en.wikipedia.org/wiki/Lempel%E2%80%93Ziv%E2%80%93Storer%E2%80%93Szymanski) (a branch of LZ77) was\n",
    "  implemented by Haruyasu Yoshizaki (in the [LHA compressor](https://en.wikipedia.org/wiki/LHA_(file_format)), discovering\n",
    "  the possibilities of the LZ77 encoder.\n",
    "* After that, a large number of text compressors have been based\n",
    "  on LZ77 (or a variation of it). Some of the most famous\n",
    "  are: [ARJ](https://en.wikipedia.org/wiki/ARJ), [RAR](https://en.wikipedia.org/wiki/RAR_(file_format), [gzip](https://en.wikipedia.org/wiki/Gzip) and [7z](https://en.wikipedia.org/wiki/7z).\n",
    "* LZ77 processes a sequence of symbols using the structure:\n",
    "\n",
    "<img src=\"data/LZ77.png\" width=\"600\">\n",
    "\n",
    "* The dictionary and the look-ahead buffer have a fixed size and\n",
    "  can be considered as a sliding window moving over the symbols while they are coded.\n",
    "  In each iteration, the input of new\n",
    "  symbols to the buffer generates the output of the oldest ones, which become the\n",
    "  newest symbols of the dictionary."
   ]
  },
  {
   "cell_type": "markdown",
   "metadata": {
    "slideshow": {
     "slide_type": "subslide"
    }
   },
   "source": [
    "### Encoder\n",
    "\n",
    "1. Let $I$ the length of the dictionary and $J$ the length of the\n",
    "   buffer.\n",
    "2. Input the first $J$ symbols in the buffer.\n",
    "3. While the input is not exhausted:\n",
    "    1. Let $i$ the position of the first $j$\n",
    "    symbols of the buffer in the dictionary, and $k$ the symbol that makes that $j$ can\n",
    "    not be larger.\n",
    "    2. Output $ijk$.\n",
    "    3. Input the next $j+1$ symbols in the buffer."
   ]
  },
  {
   "cell_type": "markdown",
   "metadata": {
    "slideshow": {
     "slide_type": "subslide"
    }
   },
   "source": [
    "### Example\n",
    "<img src=\"data/LZ77_encoding_example.png\" width=\"800\">"
   ]
  },
  {
   "cell_type": "markdown",
   "metadata": {
    "slideshow": {
     "slide_type": "subslide"
    }
   },
   "source": [
    "### Decoder\n",
    "\n",
    "1. While code-words $ijk$ are input:\n",
    "    1. Output the $j$ symbols extracted from the position $i$ in the\n",
    "    dictionary.\n",
    "    2. Output $k$.\n",
    "    3. Put all the decoded symbols in the beginnig of the buffer."
   ]
  },
  {
   "cell_type": "markdown",
   "metadata": {
    "slideshow": {
     "slide_type": "subslide"
    }
   },
   "source": [
    "### Example\n",
    "<img src=\"data/LZ77_decoding_example.png\" width=\"500\">\n",
    "\n",
    "* Parameters $I$ and $J$ control the performance\n",
    "  of the algorithm. They should be large enough to guarantee the\n",
    "  matching of long strings, but should be small in order to reduce\n",
    "  the number of bits of the code-words $ijk$. Typical sizes are:\n",
    "  $\\log_2(I)=12.0$ and $\\log_2(J)=4.0$."
   ]
  },
  {
   "cell_type": "markdown",
   "metadata": {
    "slideshow": {
     "slide_type": "subslide"
    }
   },
   "source": [
    "### Lab"
   ]
  },
  {
   "cell_type": "code",
   "execution_count": 1,
   "metadata": {},
   "outputs": [
    {
     "name": "stdout",
     "output_type": "stream",
     "text": [
      "<0, a> <0, b> <1, 2, 2> <0, c> <1, 4, 3> <1, 8, 3> <1, 1, 6> \n",
      "File was compressed successfully and saved to output path ...\n",
      "File was decompressed successfully and saved to output path ...\n",
      "\n",
      "\n",
      "The content of the first file is: ababcbababaaaaaaa\n",
      "The content of the decompress file is: ababcbababaaaaaaa\n",
      "Are both files similar? True\n"
     ]
    }
   ],
   "source": [
    "import math\n",
    "from bitarray import bitarray\n",
    "\n",
    "\n",
    "class LZ77Compressor:\n",
    "    \"\"\"\n",
    "    A simplified implementation of the LZ77 Compression Algorithm\n",
    "    \"\"\"\n",
    "    MAX_WINDOW_SIZE = 400\n",
    "\n",
    "    def __init__(self, window_size=20):\n",
    "        self.window_size = min(window_size, self.MAX_WINDOW_SIZE)  \n",
    "        self.lookahead_buffer_size = 15 # length of match is at most 4 bits\n",
    "\n",
    "    def compress(self, input_file_path, output_file_path, verbose=True):\n",
    "        data = None\n",
    "        #data = 'mahi magi magi mahi mahi hello mahi madi mahi mahi mahi facebook hello world mahi magi magi mahi mahi hello mahi madi mahi mahi mahi facebook hello world mahi magi magi mahi mahi hello mahi madi mahi mahi mahi facebook hello world '\n",
    "        #data = input_data\n",
    "        i = 0\n",
    "        output_buffer = bitarray(endian='big')\n",
    "\n",
    "        # read the input file \n",
    "        try:\n",
    "            with open(input_file_path, 'r') as input_file:\n",
    "                data = input_file.read()\n",
    "        except IOError:\n",
    "            print ('Could not open input file ...')\n",
    "            raise\n",
    "\n",
    "        while i < (len(data)-1):\n",
    "            #print i\n",
    "\n",
    "            match = self.findLongestMatch(data, i)\n",
    "\n",
    "            if match: \n",
    "                # Add 1 bit flag, followed by 12 bit for distance, and 4 bit for the length\n",
    "                # of the match \n",
    "                (bestMatchDistance, bestMatchLength) = match\n",
    "\n",
    "                output_buffer.append(True)\n",
    "                output_buffer.frombytes(bytes(chr(bestMatchDistance >> 4),\"latin-1\"))\n",
    "                output_buffer.frombytes(bytes(chr(((bestMatchDistance & 0xf) << 4) | bestMatchLength),\"latin-1\"))\n",
    "\n",
    "                if verbose:\n",
    "                    print((\"<1, %i, %i>\") % (bestMatchDistance, bestMatchLength), end=' ')\n",
    "\n",
    "                i += bestMatchLength\n",
    "\n",
    "            else:\n",
    "                # No useful match was found. Add 0 bit flag, followed by 8 bit for the character\n",
    "                output_buffer.append(False)\n",
    "                output_buffer.frombytes(bytes(data[i],\"latin-1\"))\n",
    "\n",
    "                if verbose:\n",
    "                    print((\"<0, %s>\") % data[i], end=' ')\n",
    "\n",
    "                i += 1\n",
    "\n",
    "        # fill the buffer with zeros if the number of bits is not a multiple of 8\t\t\n",
    "        output_buffer.fill()\n",
    "\n",
    "        # write the compressed data into a binary file if a path is provided\n",
    "        if output_file_path:\n",
    "            try:\n",
    "                with open(output_file_path, 'wb') as output_file:\n",
    "                    output_file.write(output_buffer.tobytes())\n",
    "                    print (\"\\n\" + \"File was compressed successfully and saved to output path ...\")\n",
    "                    return None\n",
    "            except IOError:\n",
    "                print ('Could not write to output file path. Please check if the path is correct ...')\n",
    "                raise\n",
    "\n",
    "        # an output file path was not provided, return the compressed data\n",
    "        return output_buffer\n",
    "\n",
    "\n",
    "    def decompress(self, input_file_path, output_file_path):\n",
    "        data = bitarray(endian='big')\n",
    "        output_buffer = []\n",
    "\n",
    "        # read the input file\n",
    "        try:\n",
    "            with open(input_file_path, 'rb') as input_file:\n",
    "                data.fromfile(input_file)\n",
    "        except IOError:\n",
    "            print ('Could not open input file ...')\n",
    "            raise\n",
    "\n",
    "        while (len(data)-1) >= 9:\n",
    "\n",
    "            flag = data.pop(0)\n",
    "\n",
    "            if not flag:\n",
    "                byte = data[0:8].tobytes()\n",
    "\n",
    "                output_buffer.append(byte)\n",
    "                del data[0:8]\n",
    "            else:\n",
    "                byte1 = ord(data[0:8].tobytes())\n",
    "                byte2 = ord(data[8:16].tobytes())\n",
    "\n",
    "                del data[0:16]\n",
    "                distance = (byte1 << 4) | (byte2 >> 4)\n",
    "                length = (byte2 & 0xf)\n",
    "\n",
    "                for i in range(length):\n",
    "                    output_buffer.append(output_buffer[-distance])\n",
    "        out_data =  b''.join(output_buffer)\n",
    "\n",
    "        if output_file_path:\n",
    "            try:\n",
    "                with open(output_file_path, 'wb') as output_file:\n",
    "                    output_file.write(out_data)\n",
    "                    print ('File was decompressed successfully and saved to output path ...')\n",
    "                    return None \n",
    "            except IOError:\n",
    "                print ('Could not write to output file path. Please check if the path is correct ...')\n",
    "                raise \n",
    "        return out_data\n",
    "\n",
    "    def findLongestMatch(self, data, current_position):\n",
    "        end_of_buffer = min(current_position + self.lookahead_buffer_size, len(data) + 1)\n",
    "\n",
    "        best_match_distance = -1\n",
    "        best_match_length = -1\n",
    "\n",
    "        # Optimization: Only consider substrings of length 2 and greater, and just \n",
    "        # output any substring of length 1 (8 bits uncompressed is better than 13 bits\n",
    "        # for the flag, distance, and length)\n",
    "        for j in range(current_position + 2, end_of_buffer):\n",
    "\n",
    "            start_index = max(0, current_position - self.window_size)\n",
    "            substring = data[current_position:j]\n",
    "\n",
    "            for i in range(start_index, current_position):\n",
    "\n",
    "                repetitions = int(len(substring) / (current_position - i))\n",
    "\n",
    "                last = int(len(substring) % (current_position - i))\n",
    "\n",
    "                matched_string = data[i:current_position] * repetitions + data[i:i+last]\n",
    "\n",
    "                if matched_string == substring and len(substring) > best_match_length:\n",
    "                    best_match_distance = current_position - i \n",
    "                    best_match_length = len(substring)\n",
    "\n",
    "        if best_match_distance > 0 and best_match_length > 0:\n",
    "            return (best_match_distance, best_match_length)\n",
    "        \n",
    "        return None\n",
    "    \n",
    "if __name__ == \"__main__\":  \n",
    "    compressor = LZ77Compressor(window_size=20) # window_size is optional\n",
    "\n",
    "    #Read from a file and Write to a file\n",
    "    input_file_path = 'input.txt'\n",
    "    output_file_path = 'output.txt'\n",
    "    result_file_path = 'result.txt'\n",
    "    \n",
    "    compressed_data = compressor.compress(input_file_path,output_file_path) #Compress the \"input_file\"\n",
    "    decompressed_data = str(compressor.decompress(output_file_path,result_file_path))#Decompress the \"output_file\"\n",
    "\n",
    "    print (\"\\n\")\n",
    "    with open(input_file_path, 'r') as input_file: #Read a file and save the result in the variable \"original_data\"\n",
    "                original_data = input_file.read()\n",
    "                original_data = original_data[:-1] #Delete the last character, \\n\n",
    "\n",
    "    with open(result_file_path, 'r') as input_file: #Read a file and save the result in the variable \"result_data\"\n",
    "                result_data = input_file.read()\n",
    "    \n",
    "    print(\"The content of the first file is:\" , original_data)\n",
    "    print(\"The content of the decompress file is:\" , result_data)\n",
    "\n",
    "    if original_data == result_data:\n",
    "        result = True\n",
    "    else:\n",
    "        result = False\n",
    "\n",
    "    print(\"Are both files similar?\", result)"
   ]
  },
  {
   "cell_type": "code",
   "execution_count": null,
   "metadata": {},
   "outputs": [],
   "source": []
  }
 ],
 "metadata": {
  "celltoolbar": "Slideshow",
  "kernelspec": {
   "display_name": "Python 3",
   "language": "python",
   "name": "python3"
  },
  "language_info": {
   "codemirror_mode": {
    "name": "ipython",
    "version": 3
   },
   "file_extension": ".py",
   "mimetype": "text/x-python",
   "name": "python",
   "nbconvert_exporter": "python",
   "pygments_lexer": "ipython3",
   "version": "3.6.3"
  }
 },
 "nbformat": 4,
 "nbformat_minor": 1
}
